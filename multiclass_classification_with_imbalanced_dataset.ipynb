{
  "nbformat": 4,
  "nbformat_minor": 0,
  "metadata": {
    "colab": {
      "name": "multiclass_classification_with_imbalanced_dataset.ipynb",
      "provenance": [],
      "collapsed_sections": []
    },
    "kernelspec": {
      "name": "python3",
      "display_name": "Python 3"
    },
    "accelerator": "GPU"
  },
  "cells": [
    {
      "cell_type": "markdown",
      "metadata": {
        "id": "86g4vqVy-44t",
        "colab_type": "text"
      },
      "source": [
        "# Multi-Class Text Classification\n",
        "\n",
        "![alt text](https://miro.medium.com/max/966/0*X7PVc7QwrpFnyo4p.png)\n",
        "\n",
        "\n",
        "In this project, we will create a model to predict the label of class, given the `text`. In the following post, we will walk through series of steps on how to get started with building model using [Google Colab](https://colab.research.google.com/). We will go through detail process on each step on how to approach to classfication problem. "
      ]
    },
    {
      "cell_type": "markdown",
      "metadata": {
        "id": "iqP0WDFA_oV_",
        "colab_type": "text"
      },
      "source": [
        "\n",
        "### Structure of project\n",
        "\n",
        "1. Introduction\n",
        "    - Classification\n",
        "\n",
        "2. Data Understanding\n",
        "    - Load data\n",
        "    - Check for null and missing values\n",
        "    - Check for duplicated rows\n",
        "    - Label Encoding\n",
        "3. Data Preperation\n",
        "    - Lowercase\n",
        "    - Stopwords\n",
        "    - Tokenization \n",
        "    - Lemmentation\n",
        "4. Model Preperation \n",
        "    - Define the model \n",
        "    - Set the optimizer \n",
        "5. Model Evaluation \n",
        "    - Hyperparameter tuning\n",
        "6. Prediction and submission\n",
        "    - Export model \n",
        "    - Import model\n"
      ]
    },
    {
      "cell_type": "markdown",
      "metadata": {
        "id": "E1XMh0tk_rEI",
        "colab_type": "text"
      },
      "source": [
        "## Getting started\n",
        "\n",
        "For this problem, we are given two CSV files, `train_set.csv` and `test_set.csv`. We are going to use the training file to train and test the model, and we then use the model to predict the unknown values in the text file. The first steps are to read in the files and perform some preliminary analysis to determine what pre-processing we will need before attempting to train a model.\n"
      ]
    },
    {
      "cell_type": "code",
      "metadata": {
        "id": "7m-AEQfE-0va",
        "colab_type": "code",
        "colab": {}
      },
      "source": [
        "# import warnings filter\n",
        "from warnings import simplefilter\n",
        "# ignore all future warnings\n",
        "simplefilter(action='ignore', category=FutureWarning)"
      ],
      "execution_count": 0,
      "outputs": []
    },
    {
      "cell_type": "code",
      "metadata": {
        "id": "3Lhq_C3vAHb1",
        "colab_type": "code",
        "colab": {
          "base_uri": "https://localhost:8080/",
          "height": 392
        },
        "outputId": "cf2fa475-e3a8-4dcc-816f-98ca88f03384"
      },
      "source": [
        "# installing libraries requiered for this project\n",
        "\n",
        "# imblear for smote algorithm: balancing dataset\n",
        "!pip install imblearn\n",
        "\n",
        "# installing autotime\n",
        "!pip install ipython-autotime\n",
        "\n",
        "# installing word segment\n",
        "!pip install wordsegment "
      ],
      "execution_count": 2,
      "outputs": [
        {
          "output_type": "stream",
          "text": [
            "Requirement already satisfied: imblearn in /usr/local/lib/python3.6/dist-packages (0.0)\n",
            "Requirement already satisfied: imbalanced-learn in /usr/local/lib/python3.6/dist-packages (from imblearn) (0.4.3)\n",
            "Requirement already satisfied: scipy>=0.13.3 in /usr/local/lib/python3.6/dist-packages (from imbalanced-learn->imblearn) (1.4.1)\n",
            "Requirement already satisfied: scikit-learn>=0.20 in /usr/local/lib/python3.6/dist-packages (from imbalanced-learn->imblearn) (0.22.2.post1)\n",
            "Requirement already satisfied: numpy>=1.8.2 in /usr/local/lib/python3.6/dist-packages (from imbalanced-learn->imblearn) (1.18.4)\n",
            "Requirement already satisfied: joblib>=0.11 in /usr/local/lib/python3.6/dist-packages (from scikit-learn>=0.20->imbalanced-learn->imblearn) (0.14.1)\n",
            "Collecting ipython-autotime\n",
            "  Downloading https://files.pythonhosted.org/packages/e6/f9/0626bbdb322e3a078d968e87e3b01341e7890544de891d0cb613641220e6/ipython-autotime-0.1.tar.bz2\n",
            "Building wheels for collected packages: ipython-autotime\n",
            "  Building wheel for ipython-autotime (setup.py) ... \u001b[?25l\u001b[?25hdone\n",
            "  Created wheel for ipython-autotime: filename=ipython_autotime-0.1-cp36-none-any.whl size=1832 sha256=6b8796a0893234209996cbedd799465460db47aef0f6f619d15fb6879ed183c0\n",
            "  Stored in directory: /root/.cache/pip/wheels/d2/df/81/2db1e54bc91002cec40334629bc39cfa86dff540b304ebcd6e\n",
            "Successfully built ipython-autotime\n",
            "Installing collected packages: ipython-autotime\n",
            "Successfully installed ipython-autotime-0.1\n",
            "Collecting wordsegment\n",
            "\u001b[?25l  Downloading https://files.pythonhosted.org/packages/cf/6c/e6f4734d6f7d28305f52ec81377d7ce7d1856b97b814278e9960183235ad/wordsegment-1.3.1-py2.py3-none-any.whl (4.8MB)\n",
            "\u001b[K     |████████████████████████████████| 4.8MB 14.9MB/s \n",
            "\u001b[?25hInstalling collected packages: wordsegment\n",
            "Successfully installed wordsegment-1.3.1\n"
          ],
          "name": "stdout"
        }
      ]
    },
    {
      "cell_type": "markdown",
      "metadata": {
        "id": "grsWsE9iALB0",
        "colab_type": "text"
      },
      "source": [
        "## Import libraries\n",
        "\n",
        "Let's now import the required libraries and load the dataset into our application. The following script imports the required libraries:"
      ]
    },
    {
      "cell_type": "code",
      "metadata": {
        "id": "XW1y0439AIyT",
        "colab_type": "code",
        "colab": {
          "base_uri": "https://localhost:8080/",
          "height": 123
        },
        "outputId": "f032d31d-3fbb-46e7-8c2f-439d629f5131"
      },
      "source": [
        "import re\n",
        "import string\n",
        "from string import punctuation\n",
        "\n",
        "import pandas as pd\n",
        "import numpy as np\n",
        "import matplotlib.pyplot as plt\n",
        "import matplotlib.image as mpimg\n",
        "import seaborn as sns\n",
        "%matplotlib inline\n",
        "\n",
        "# importing for wordcloud\n",
        "import collections \n",
        "from wordcloud import WordCloud\n",
        "\n",
        "# importing for text processing \n",
        "import nltk\n",
        "nltk.download('stopwords')\n",
        "nltk.download('punkt')\n",
        "nltk.download('wordnet')\n",
        "from nltk.corpus import stopwords\n",
        "stop = stopwords.words('english')\n",
        "from textblob import TextBlob\n",
        "from textblob import Word\n",
        "from wordsegment import load, segment \n",
        "load()\n",
        "\n",
        "# \n",
        "from nltk.tokenize import word_tokenize\n",
        "from nltk import pos_tag\n",
        "from nltk.corpus import stopwords\n",
        "from nltk.stem import WordNetLemmatizer\n",
        "from sklearn.preprocessing import LabelEncoder\n",
        "from collections import defaultdict\n",
        "from nltk.corpus import wordnet as wn\n",
        "from sklearn.feature_extraction.text import TfidfVectorizer\n",
        "from sklearn import model_selection, naive_bayes, svm\n",
        "from sklearn.metrics import accuracy_score\n",
        "\n",
        "\n",
        "# sklearn \n",
        "from sklearn.feature_extraction.text import TfidfVectorizer\n",
        "from sklearn.ensemble import RandomForestClassifier\n",
        "from sklearn import model_selection\n",
        "from sklearn.model_selection import train_test_split\n",
        "from sklearn.metrics import classification_report, confusion_matrix, accuracy_score\n",
        "\n",
        "# keras\n",
        "from tensorflow.python.keras.preprocessing.text import Tokenizer\n",
        "from tensorflow.python.keras.preprocessing.sequence import pad_sequences\n",
        "\n",
        "from tensorflow.python.keras import Sequential\n",
        "from tensorflow.python.keras.layers import Dense, Embedding,Flatten,LSTM, SpatialDropout1D,Activation\n",
        "from tensorflow.python.keras.callbacks import EarlyStopping\n",
        "from tensorflow.python.keras.layers import Conv1D, GlobalMaxPooling1D,Dropout\n",
        "\n",
        "# pickle\n",
        "import pickle\n",
        "\n",
        "# \n",
        "np.random.seed(500)\n",
        "\n",
        "# \n",
        "%load_ext autotime"
      ],
      "execution_count": 3,
      "outputs": [
        {
          "output_type": "stream",
          "text": [
            "[nltk_data] Downloading package stopwords to /root/nltk_data...\n",
            "[nltk_data]   Unzipping corpora/stopwords.zip.\n",
            "[nltk_data] Downloading package punkt to /root/nltk_data...\n",
            "[nltk_data]   Unzipping tokenizers/punkt.zip.\n",
            "[nltk_data] Downloading package wordnet to /root/nltk_data...\n",
            "[nltk_data]   Unzipping corpora/wordnet.zip.\n"
          ],
          "name": "stdout"
        }
      ]
    },
    {
      "cell_type": "code",
      "metadata": {
        "id": "3Q71ABhkAXY2",
        "colab_type": "code",
        "colab": {
          "base_uri": "https://localhost:8080/",
          "height": 34
        },
        "outputId": "a6a1ea06-74d9-488f-b449-bb22e6ca9a24"
      },
      "source": [
        "# setting properties of datafrme \n",
        "\n",
        "# column display size\n",
        "pd.set_option(\"display.max_colwidth\", 300)\n",
        "\n",
        "# warrning option\n",
        "pd.set_option('mode.chained_assignment', None)"
      ],
      "execution_count": 4,
      "outputs": [
        {
          "output_type": "stream",
          "text": [
            "time: 1.21 ms\n"
          ],
          "name": "stdout"
        }
      ]
    },
    {
      "cell_type": "markdown",
      "metadata": {
        "id": "SYyA87T5Ab9j",
        "colab_type": "text"
      },
      "source": [
        "## Data Understanding\n",
        "\n",
        "There are 12 output labels for each text: . A text can belong to all of these categories ,which makes it a multi-label classification problem.\n",
        "\n",
        "We will use both \"train_set.csv\" and \"test_set.csv\" file that contains 23615 and 5894 records respectively."
      ]
    },
    {
      "cell_type": "markdown",
      "metadata": {
        "id": "a-1xpliOAgUU",
        "colab_type": "text"
      },
      "source": [
        "### 2.1 Load data \n",
        "\n",
        "Now lets load data into the memory.\n"
      ]
    },
    {
      "cell_type": "code",
      "metadata": {
        "id": "fPi8ncXBAZkU",
        "colab_type": "code",
        "colab": {
          "base_uri": "https://localhost:8080/",
          "height": 233
        },
        "outputId": "72ac6946-7dc7-4204-d0ca-b9b3dd5aac88"
      },
      "source": [
        "# load the data\n",
        "train = pd.read_csv('train_set.csv',  encoding='latin-1')\n",
        "test = pd.read_csv('test_set.csv',  encoding='latin-1')\n",
        "print(train.shape)\n",
        "train.head()"
      ],
      "execution_count": 7,
      "outputs": [
        {
          "output_type": "stream",
          "text": [
            "(23615, 2)\n"
          ],
          "name": "stdout"
        },
        {
          "output_type": "execute_result",
          "data": {
            "text/html": [
              "<div>\n",
              "<style scoped>\n",
              "    .dataframe tbody tr th:only-of-type {\n",
              "        vertical-align: middle;\n",
              "    }\n",
              "\n",
              "    .dataframe tbody tr th {\n",
              "        vertical-align: top;\n",
              "    }\n",
              "\n",
              "    .dataframe thead th {\n",
              "        text-align: right;\n",
              "    }\n",
              "</style>\n",
              "<table border=\"1\" class=\"dataframe\">\n",
              "  <thead>\n",
              "    <tr style=\"text-align: right;\">\n",
              "      <th></th>\n",
              "      <th>label</th>\n",
              "      <th>text</th>\n",
              "    </tr>\n",
              "  </thead>\n",
              "  <tbody>\n",
              "    <tr>\n",
              "      <th>0</th>\n",
              "      <td>85389000</td>\n",
              "      <td>pdscpm gb part of panel of chiller</td>\n",
              "    </tr>\n",
              "    <tr>\n",
              "      <th>1</th>\n",
              "      <td>85389000</td>\n",
              "      <td>nm  p economical extended rot hand parts for circuit breaker captive consumption</td>\n",
              "    </tr>\n",
              "    <tr>\n",
              "      <th>2</th>\n",
              "      <td>85389000</td>\n",
              "      <td>lv ma pd trip unit for cvs parts of circuit breakers</td>\n",
              "    </tr>\n",
              "    <tr>\n",
              "      <th>3</th>\n",
              "      <td>85389000</td>\n",
              "      <td>lv na p trip unit for cvs switch parts of circuit breaker</td>\n",
              "    </tr>\n",
              "    <tr>\n",
              "      <th>4</th>\n",
              "      <td>85389000</td>\n",
              "      <td>lv tmd pd trip unit for cvs parts of circuitbreakers</td>\n",
              "    </tr>\n",
              "  </tbody>\n",
              "</table>\n",
              "</div>"
            ],
            "text/plain": [
              "      label                                                                              text\n",
              "0  85389000                                                pdscpm gb part of panel of chiller\n",
              "1  85389000  nm  p economical extended rot hand parts for circuit breaker captive consumption\n",
              "2  85389000                              lv ma pd trip unit for cvs parts of circuit breakers\n",
              "3  85389000                         lv na p trip unit for cvs switch parts of circuit breaker\n",
              "4  85389000                              lv tmd pd trip unit for cvs parts of circuitbreakers"
            ]
          },
          "metadata": {
            "tags": []
          },
          "execution_count": 7
        },
        {
          "output_type": "stream",
          "text": [
            "time: 64.3 ms\n"
          ],
          "name": "stdout"
        }
      ]
    },
    {
      "cell_type": "markdown",
      "metadata": {
        "id": "NK7O-NyXA0Mk",
        "colab_type": "text"
      },
      "source": [
        "The dataset contains 23615 records and 2 columns. The header of the dataset is up above.\n",
        "\n",
        "Once the files have been imported we will try to understand more about data and get some more information about the dataset."
      ]
    },
    {
      "cell_type": "code",
      "metadata": {
        "id": "yj25aasaAfRi",
        "colab_type": "code",
        "colab": {
          "base_uri": "https://localhost:8080/",
          "height": 283
        },
        "outputId": "9a675ebf-f629-42b3-953c-4b7a94754f1a"
      },
      "source": [
        "def describe_data(df):\n",
        "    print(\"Data Types:\")\n",
        "    print(df.dtypes)\n",
        "    print(\"Rows and Columns:\")\n",
        "    print(df.shape)\n",
        "    print(\"Column Names:\")\n",
        "    print(df.columns)\n",
        "    print(\"Null Values:\")\n",
        "    print(df.apply(lambda x: sum(x.isnull()) / len(df)))\n",
        "    print(\"Duplicated rows:\")\n",
        "    duplicate_rows = train[train.duplicated()]\n",
        "    print(\"Duplicated rows: \" ,len(duplicate_rows))\n",
        "\n",
        "describe_data(train)"
      ],
      "execution_count": 8,
      "outputs": [
        {
          "output_type": "stream",
          "text": [
            "Data Types:\n",
            "label     int64\n",
            "text     object\n",
            "dtype: object\n",
            "Rows and Columns:\n",
            "(23615, 2)\n",
            "Column Names:\n",
            "Index(['label', 'text'], dtype='object')\n",
            "Null Values:\n",
            "label    0.0\n",
            "text     0.0\n",
            "dtype: float64\n",
            "Duplicated rows:\n",
            "Duplicated rows:  12243\n",
            "time: 28.9 ms\n"
          ],
          "name": "stdout"
        }
      ]
    },
    {
      "cell_type": "markdown",
      "metadata": {
        "id": "N6U1VFklA6f0",
        "colab_type": "text"
      },
      "source": [
        "This gives the following information about the data set;\n",
        "- That we have text column as non numeric which will need some pre-processing before they can be used to build a model.\n",
        "- That we have a relatively small data set consisting of 11372 rows and 2 columns.\n",
        "- That there are no null values present in the data\n",
        "- Thata there are 12243 duplicated rows which has to be removed."
      ]
    },
    {
      "cell_type": "code",
      "metadata": {
        "id": "A_mTAStqA4bA",
        "colab_type": "code",
        "colab": {
          "base_uri": "https://localhost:8080/",
          "height": 527
        },
        "outputId": "4116e7bc-459a-4287-93b5-0ec92bdff9bb"
      },
      "source": [
        "# plot the frequency of each class\n",
        "sns.countplot(y = 'label',\n",
        "              data = train,\n",
        "              order = train['label'].value_counts().index)\n",
        "\n",
        "# occurence of each class\n",
        "train['label'].value_counts()"
      ],
      "execution_count": 9,
      "outputs": [
        {
          "output_type": "execute_result",
          "data": {
            "text/plain": [
              "85389000    2936\n",
              "85177090    2581\n",
              "85369090    2438\n",
              "39269099    2189\n",
              "73181500    2033\n",
              "85366990    1944\n",
              "85238090    1720\n",
              "85364900    1714\n",
              "87089900    1673\n",
              "33041000    1605\n",
              "87082900    1451\n",
              "84713010    1331\n",
              "Name: label, dtype: int64"
            ]
          },
          "metadata": {
            "tags": []
          },
          "execution_count": 9
        },
        {
          "output_type": "display_data",
          "data": {
            "image/png": "[encoded data removed]",
            "text/plain": [
              "<Figure size 432x288 with 1 Axes>"
            ]
          },
          "metadata": {
            "tags": [],
            "needs_background": "light"
          }
        },
        {
          "output_type": "stream",
          "text": [
            "time: 203 ms\n"
          ],
          "name": "stdout"
        }
      ]
    },
    {
      "cell_type": "markdown",
      "metadata": {
        "id": "vTLBOkbkBC6n",
        "colab_type": "text"
      },
      "source": [
        "There are 12 distinct classes and all classes don't have balanced distribution of data. We can see class `85389000` (2936 rows) have more dataset that class `84713010`(1331 rows). \n",
        "\n",
        "If we train classifier on this data, the accuracy of the classifier would be maximum for class `85389000` (top row) and for class (below row) the model treats it as minority class. So, we need to balance our data. \n",
        "\n",
        "To balance imbalanced dataset there are multiple approaches we has been discussed below.\n"
      ]
    },
    {
      "cell_type": "code",
      "metadata": {
        "id": "rQOVHwPNBAlz",
        "colab_type": "code",
        "colab": {
          "base_uri": "https://localhost:8080/",
          "height": 247
        },
        "outputId": "26361d79-0af5-4b64-bdf2-e308f385bf9b"
      },
      "source": [
        "# replacing labels with new encoded labels\n",
        "# The labels are replaced from number 1 to 12 \n",
        "# such that 1 has highest number of distribution i.e 2926\n",
        "# and 12 has the lowest number of distribution i.e. 1331\n",
        "\n",
        "\n",
        "replace_values = {85389000 : 1, 85177090 : 2, 85369090 : 3, 39269099 : 4,\n",
        "                  73181500 : 5, 85366990 : 6, 85238090 : 7, 85364900 : 8, 87089900 : 9,\n",
        "                  33041000 : 10 ,87082900 : 11 , 84713010 : 12 }   \n",
        "\n",
        "train = train.replace({\"label\": replace_values})                                                                                             \n",
        "\n",
        "# occurence of each class\n",
        "train['label'].value_counts()"
      ],
      "execution_count": 10,
      "outputs": [
        {
          "output_type": "execute_result",
          "data": {
            "text/plain": [
              "1     2936\n",
              "2     2581\n",
              "3     2438\n",
              "4     2189\n",
              "5     2033\n",
              "6     1944\n",
              "7     1720\n",
              "8     1714\n",
              "9     1673\n",
              "10    1605\n",
              "11    1451\n",
              "12    1331\n",
              "Name: label, dtype: int64"
            ]
          },
          "metadata": {
            "tags": []
          },
          "execution_count": 10
        },
        {
          "output_type": "stream",
          "text": [
            "time: 12.7 ms\n"
          ],
          "name": "stdout"
        }
      ]
    },
    {
      "cell_type": "code",
      "metadata": {
        "id": "3sNHK7KKBKeo",
        "colab_type": "code",
        "colab": {
          "base_uri": "https://localhost:8080/",
          "height": 527
        },
        "outputId": "4192faa6-e3ca-4d9a-b418-4218c58153f1"
      },
      "source": [
        "# plot the frequency of each class\n",
        "sns.countplot(y = 'label',\n",
        "              data = train,\n",
        "              order = train['label'].value_counts().index)\n",
        "\n",
        "# occurence of each class\n",
        "train['label'].value_counts()"
      ],
      "execution_count": 11,
      "outputs": [
        {
          "output_type": "execute_result",
          "data": {
            "text/plain": [
              "1     2936\n",
              "2     2581\n",
              "3     2438\n",
              "4     2189\n",
              "5     2033\n",
              "6     1944\n",
              "7     1720\n",
              "8     1714\n",
              "9     1673\n",
              "10    1605\n",
              "11    1451\n",
              "12    1331\n",
              "Name: label, dtype: int64"
            ]
          },
          "metadata": {
            "tags": []
          },
          "execution_count": 11
        },
        {
          "output_type": "display_data",
          "data": {
            "image/png": "[encoded data removed]",
            "text/plain": [
              "<Figure size 432x288 with 1 Axes>"
            ]
          },
          "metadata": {
            "tags": [],
            "needs_background": "light"
          }
        },
        {
          "output_type": "stream",
          "text": [
            "time: 165 ms\n"
          ],
          "name": "stdout"
        }
      ]
    },
    {
      "cell_type": "markdown",
      "metadata": {
        "id": "tp4whZjQBR7a",
        "colab_type": "text"
      },
      "source": [
        "Each class has been label to corresponding values from 1 to 12. This makes it easier to read each class. "
      ]
    },
    {
      "cell_type": "code",
      "metadata": {
        "id": "PV1hz2ZKBM5U",
        "colab_type": "code",
        "colab": {}
      },
      "source": [
        ""
      ],
      "execution_count": 0,
      "outputs": []
    }
  ]
}