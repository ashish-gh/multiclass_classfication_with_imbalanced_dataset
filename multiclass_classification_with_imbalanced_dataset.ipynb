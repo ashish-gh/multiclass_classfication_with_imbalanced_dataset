{
  "nbformat": 4,
  "nbformat_minor": 0,
  "metadata": {
    "colab": {
      "name": "multiclass_classification_with_imbalanced_dataset.ipynb",
      "provenance": [],
      "collapsed_sections": []
    },
    "kernelspec": {
      "name": "python3",
      "display_name": "Python 3"
    },
    "accelerator": "GPU"
  },
  "cells": [
    {
      "cell_type": "markdown",
      "metadata": {
        "id": "86g4vqVy-44t",
        "colab_type": "text"
      },
      "source": [
        "# Multi-Class Text Classification\n",
        "\n",
        "![alt text](https://miro.medium.com/max/966/0*X7PVc7QwrpFnyo4p.png)\n",
        "\n",
        "\n",
        "In this project, we will create a model to predict the label of class, given the `text`. In the following post, we will walk through series of steps on how to get started with building model using [Google Colab](https://colab.research.google.com/). We will go through detail process on each step on how to approach to classfication problem. "
      ]
    },
    {
      "cell_type": "markdown",
      "metadata": {
        "id": "iqP0WDFA_oV_",
        "colab_type": "text"
      },
      "source": [
        "\n",
        "### Structure of project\n",
        "\n",
        "1. Introduction\n",
        "    - Classification\n",
        "\n",
        "2. Data Understanding\n",
        "    - Load data\n",
        "    - Check for null and missing values\n",
        "    - Check for duplicated rows\n",
        "    - Label Encoding\n",
        "3. Data Preperation\n",
        "    - Lowercase\n",
        "    - Stopwords\n",
        "    - Tokenization \n",
        "    - Lemmentation\n",
        "4. Model Preperation \n",
        "    - Define the model \n",
        "    - Set the optimizer \n",
        "5. Model Evaluation \n",
        "    - Hyperparameter tuning\n",
        "6. Prediction and submission\n",
        "    - Export model \n",
        "    - Import model\n"
      ]
    },
    {
      "cell_type": "markdown",
      "metadata": {
        "id": "E1XMh0tk_rEI",
        "colab_type": "text"
      },
      "source": [
        "## Getting started\n",
        "\n",
        "For this problem, we are given two CSV files, `train_set.csv` and `test_set.csv`. We are going to use the training file to train and test the model, and we then use the model to predict the unknown values in the text file. The first steps are to read in the files and perform some preliminary analysis to determine what pre-processing we will need before attempting to train a model.\n"
      ]
    },
    {
      "cell_type": "code",
      "metadata": {
        "id": "7m-AEQfE-0va",
        "colab_type": "code",
        "colab": {}
      },
      "source": [
        ""
      ],
      "execution_count": 0,
      "outputs": []
    }
  ]
}